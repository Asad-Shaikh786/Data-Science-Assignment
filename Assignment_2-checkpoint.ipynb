{
 "cells": [
  {
   "cell_type": "code",
   "execution_count": 1,
   "id": "9935f8d2-9a58-418e-be7c-ae7de783c7f7",
   "metadata": {},
   "outputs": [],
   "source": [
    "import numpy as np\n",
    "import scipy.stats as stats\n",
    "\n",
    "# Given data\n",
    "durability = np.array([1.13, 1.55, 1.43, 0.92, 1.25, 1.36, 1.32, 0.85, 1.07, 1.48, 1.20, 1.33, 1.18, 1.22, 1.29])"
   ]
  },
  {
   "cell_type": "code",
   "execution_count": 2,
   "id": "e6162d1f-8fce-461f-97dc-b676ef034e36",
   "metadata": {},
   "outputs": [
    {
     "name": "stdout",
     "output_type": "stream",
     "text": [
      "Sample Mean: 1.2387\n"
     ]
    }
   ],
   "source": [
    "# Step 1: Calculate sample statistics\n",
    "n = len(durability)  # sample size\n",
    "mean_durability = np.mean(durability)  # sample mean\n",
    "sample_std_dev = np.std(durability, ddof=1)  # sample standard deviation (ddof=1 for sample std deviation)\n",
    "\n",
    "print(f\"Sample Mean: {mean_durability:.4f}\")"
   ]
  },
  {
   "cell_type": "code",
   "execution_count": 3,
   "id": "99b6e4c9-8e69-47fb-bb6b-0821d039fcb6",
   "metadata": {},
   "outputs": [
    {
     "name": "stdout",
     "output_type": "stream",
     "text": [
      "Sample Standard Deviation: 0.1932\n"
     ]
    }
   ],
   "source": [
    "# Step 2: Find the t-critical value for 99% confidence level and 14 degrees of freedom (n-1)\n",
    "confidence_level = 0.99\n",
    "alpha = 1 - confidence_level\n",
    "degrees_of_freedom = n - 1\n",
    "t_critical = stats.t.ppf(1 - alpha/2, df=degrees_of_freedom)\n",
    "\n",
    "print(f\"Sample Standard Deviation: {sample_std_dev:.4f}\")"
   ]
  },
  {
   "cell_type": "code",
   "execution_count": 4,
   "id": "abb87cc4-3cb9-4170-befd-dbb58c30c535",
   "metadata": {},
   "outputs": [
    {
     "name": "stdout",
     "output_type": "stream",
     "text": [
      "T-Critical Value: 2.9768\n"
     ]
    }
   ],
   "source": [
    "# Step 3: Calculate the margin of error\n",
    "margin_of_error = t_critical * (sample_std_dev / np.sqrt(n))\n",
    "\n",
    "print(f\"T-Critical Value: {t_critical:.4f}\")"
   ]
  },
  {
   "cell_type": "code",
   "execution_count": 5,
   "id": "a1da5d1e-dd11-481d-bb9b-9224a07160ab",
   "metadata": {},
   "outputs": [
    {
     "name": "stdout",
     "output_type": "stream",
     "text": [
      "Margin of Error: 0.1485\n",
      "99% Confidence Interval: (1.0901973384384906, 1.3871359948948425)\n"
     ]
    }
   ],
   "source": [
    "# Step 4: Calculate the confidence interval\n",
    "confidence_interval = (mean_durability - margin_of_error, mean_durability + margin_of_error)\n",
    "\n",
    "print(f\"Margin of Error: {margin_of_error:.4f}\")\n",
    "print(f\"99% Confidence Interval: {confidence_interval}\")"
   ]
  },
  {
   "cell_type": "code",
   "execution_count": 6,
   "id": "13489310-798d-46cb-ade1-751ddd6508e5",
   "metadata": {},
   "outputs": [],
   "source": [
    "# Given population standard deviation\n",
    "population_std_dev = 0.2  # in millions of characters"
   ]
  },
  {
   "cell_type": "code",
   "execution_count": 7,
   "id": "7b7e53b4-256c-4c99-85b0-4b550f3df6a1",
   "metadata": {},
   "outputs": [
    {
     "name": "stdout",
     "output_type": "stream",
     "text": [
      "Population Standard Deviation: 0.2\n"
     ]
    }
   ],
   "source": [
    "# Step 1: Calculate the margin of error using z-distribution\n",
    "z_critical = stats.norm.ppf(1 - alpha/2)  # z-critical value for 99% confidence level\n",
    "print(f\"Population Standard Deviation: {population_std_dev}\")"
   ]
  },
  {
   "cell_type": "code",
   "execution_count": 8,
   "id": "4b83603a-c29d-4f13-ac7c-471dc2d2ea32",
   "metadata": {},
   "outputs": [
    {
     "name": "stdout",
     "output_type": "stream",
     "text": [
      "Z-Critical Value: 2.5758\n"
     ]
    }
   ],
   "source": [
    "# Step 2: Calculate the margin of error\n",
    "margin_of_error_population = z_critical * (population_std_dev / np.sqrt(n))\n",
    "print(f\"Z-Critical Value: {z_critical:.4f}\")"
   ]
  },
  {
   "cell_type": "code",
   "execution_count": 9,
   "id": "76a03c7f-74a9-490b-990b-bb06d2745d4a",
   "metadata": {},
   "outputs": [
    {
     "name": "stdout",
     "output_type": "stream",
     "text": [
      "Margin of Error with Population Standard Deviation: 0.1330\n",
      "99% Confidence Interval with Population Standard Deviation: (1.1056514133957607, 1.3716819199375725)\n"
     ]
    }
   ],
   "source": [
    "# Step 3: Calculate the confidence interval\n",
    "confidence_interval_population = (mean_durability - margin_of_error_population, mean_durability + margin_of_error_population)\n",
    "print(f\"Margin of Error with Population Standard Deviation: {margin_of_error_population:.4f}\")\n",
    "print(f\"99% Confidence Interval with Population Standard Deviation: {confidence_interval_population}\")"
   ]
  },
  {
   "cell_type": "code",
   "execution_count": null,
   "id": "25e5a056-31e0-45d6-9f5c-04d95e7bc869",
   "metadata": {},
   "outputs": [],
   "source": []
  },
  {
   "cell_type": "code",
   "execution_count": null,
   "id": "4986bcc8-4ff2-4abd-84a2-528384c8f65c",
   "metadata": {},
   "outputs": [],
   "source": []
  }
 ],
 "metadata": {
  "kernelspec": {
   "display_name": "Python 3 (ipykernel)",
   "language": "python",
   "name": "python3"
  },
  "language_info": {
   "codemirror_mode": {
    "name": "ipython",
    "version": 3
   },
   "file_extension": ".py",
   "mimetype": "text/x-python",
   "name": "python",
   "nbconvert_exporter": "python",
   "pygments_lexer": "ipython3",
   "version": "3.12.7"
  }
 },
 "nbformat": 4,
 "nbformat_minor": 5
}
