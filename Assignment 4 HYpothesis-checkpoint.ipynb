{
 "cells": [
  {
   "cell_type": "code",
   "execution_count": 1,
   "id": "b180079e-6bbe-45ec-b9d8-122fa787c288",
   "metadata": {},
   "outputs": [],
   "source": [
    "import scipy.stats as stats\n",
    "import math"
   ]
  },
  {
   "cell_type": "code",
   "execution_count": 2,
   "id": "158e7f61-75c2-443a-9a22-1c895a959e6a",
   "metadata": {},
   "outputs": [],
   "source": [
    "# Step 1: Define the given data\n",
    "sample_mean = 3050  # sample mean weekly cost (Rs. 3050)\n",
    "theoretical_mean = 1000 + 5 * 600  # theoretical weekly cost for X = 600 (W = 1000 + 5X)\n",
    "population_sd = 5 * 25  # standard deviation of cost for each unit produced\n",
    "sample_size = 25  # number of restaurants in the sample"
   ]
  },
  {
   "cell_type": "code",
   "execution_count": 3,
   "id": "9c2ca05b-64fe-40a7-8a9b-538164113e0b",
   "metadata": {},
   "outputs": [],
   "source": [
    "# Step 2: Calculate the test statistic (Z)\n",
    "standard_error = population_sd / math.sqrt(sample_size)\n",
    "z_statistic = (sample_mean - theoretical_mean) / standard_error"
   ]
  },
  {
   "cell_type": "code",
   "execution_count": 4,
   "id": "d57fb8d8-06fe-41d8-abcc-34d177e2fd6a",
   "metadata": {},
   "outputs": [],
   "source": [
    "# Step 3: Determine the critical value for a one-tailed Z-test at alpha = 0.05\n",
    "alpha = 0.05\n",
    "critical_value = stats.norm.ppf(1 - alpha)"
   ]
  },
  {
   "cell_type": "code",
   "execution_count": 5,
   "id": "a887a04e-1904-4d36-a288-719382730f08",
   "metadata": {},
   "outputs": [
    {
     "name": "stdout",
     "output_type": "stream",
     "text": [
      "Test Statistic (Z): -38.0\n",
      "Critical Value: 1.6448536269514722\n",
      "Decision: Fail to reject the null hypothesis (no strong evidence that costs are higher).\n"
     ]
    }
   ],
   "source": [
    "# Step 4: Make a decision\n",
    "if z_statistic > critical_value:\n",
    "    decision = \"Reject the null hypothesis (there is strong evidence that costs are higher).\"\n",
    "else:\n",
    "    decision = \"Fail to reject the null hypothesis (no strong evidence that costs are higher).\"\n",
    "\n",
    "# Step 5: Print the results\n",
    "print(f\"Test Statistic (Z): {z_statistic}\")\n",
    "print(f\"Critical Value: {critical_value}\")\n",
    "print(f\"Decision: {decision}\")"
   ]
  }
 ],
 "metadata": {
  "kernelspec": {
   "display_name": "Python 3 (ipykernel)",
   "language": "python",
   "name": "python3"
  },
  "language_info": {
   "codemirror_mode": {
    "name": "ipython",
    "version": 3
   },
   "file_extension": ".py",
   "mimetype": "text/x-python",
   "name": "python",
   "nbconvert_exporter": "python",
   "pygments_lexer": "ipython3",
   "version": "3.12.7"
  }
 },
 "nbformat": 4,
 "nbformat_minor": 5
}
