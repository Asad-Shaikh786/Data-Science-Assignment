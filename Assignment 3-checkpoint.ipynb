{
 "cells": [
  {
   "cell_type": "code",
   "execution_count": 15,
   "id": "ef2491ae-6418-4f88-9f02-043ed4b7382f",
   "metadata": {},
   "outputs": [],
   "source": [
    "import pandas as pd"
   ]
  },
  {
   "cell_type": "code",
   "execution_count": 10,
   "id": "eccc1812-8a35-434c-a0c4-b88c81ccaeb3",
   "metadata": {},
   "outputs": [
    {
     "name": "stdin",
     "output_type": "stream",
     "text": [
      "Enter a number to check if it's prime:  4\n"
     ]
    },
    {
     "name": "stdout",
     "output_type": "stream",
     "text": [
      "4 is not a prime number.\n"
     ]
    }
   ],
   "source": [
    "# Exercise 1: Prime Numbers\n",
    "def is_prime(n):\n",
    "    \"\"\"Check if a number is prime\"\"\"\n",
    "    if n <= 1:\n",
    "        return False  # numbers less than or equal to 1 are not prime\n",
    "    for i in range(2, int(n ** 0.5) + 1):\n",
    "        if n % i == 0:\n",
    "            return False  # n is divisible by some number other than 1 and itself\n",
    "    return True  # n is prime\n",
    "\n",
    "num = int(input(\"Enter a number to check if it's prime: \"))\n",
    "if is_prime(num):\n",
    "    print(f\"{num} is a prime number.\")\n",
    "else:\n",
    "    print(f\"{num} is not a prime number.\")"
   ]
  },
  {
   "cell_type": "code",
   "execution_count": 12,
   "id": "1fb833f6-b0d0-41b1-93e3-2aa86e5d37cb",
   "metadata": {},
   "outputs": [
    {
     "name": "stdin",
     "output_type": "stream",
     "text": [
      "What is the product of 2 and 5?  10\n"
     ]
    },
    {
     "name": "stdout",
     "output_type": "stream",
     "text": [
      "Correct! Well done.\n"
     ]
    }
   ],
   "source": [
    "import random\n",
    "\n",
    "def check_product():\n",
    "    \"\"\"Generate two random numbers and check the user's product\"\"\"\n",
    "    # Generate two random numbers between 1 and 10\n",
    "    num1 = random.randint(1, 10)\n",
    "    num2 = random.randint(1, 10)\n",
    "\n",
    "    # Calculate the correct product\n",
    "    correct_product = num1 * num2\n",
    "\n",
    "    # Ask the user for the product of the two numbers\n",
    "    user_answer = int(input(f\"What is the product of {num1} and {num2}? \"))\n",
    "\n",
    "    # Check if the user's answer is correct\n",
    "    if user_answer == correct_product:\n",
    "        print(\"Correct! Well done.\")\n",
    "    else:\n",
    "        print(f\"Incorrect. The correct answer is {correct_product}.\")\n",
    "\n",
    "# Call the function to run the program\n",
    "check_product()"
   ]
  },
  {
   "cell_type": "code",
   "execution_count": 13,
   "id": "4e744710-571d-4275-a6a5-68bbc3d51af0",
   "metadata": {},
   "outputs": [
    {
     "name": "stdout",
     "output_type": "stream",
     "text": [
      "Square of 100 is 10000\n",
      "Square of 102 is 10404\n",
      "Square of 104 is 10816\n",
      "Square of 106 is 11236\n",
      "Square of 108 is 11664\n",
      "Square of 110 is 12100\n",
      "Square of 112 is 12544\n",
      "Square of 114 is 12996\n",
      "Square of 116 is 13456\n",
      "Square of 118 is 13924\n",
      "Square of 120 is 14400\n",
      "Square of 122 is 14884\n",
      "Square of 124 is 15376\n",
      "Square of 126 is 15876\n",
      "Square of 128 is 16384\n",
      "Square of 130 is 16900\n",
      "Square of 132 is 17424\n",
      "Square of 134 is 17956\n",
      "Square of 136 is 18496\n",
      "Square of 138 is 19044\n",
      "Square of 140 is 19600\n",
      "Square of 142 is 20164\n",
      "Square of 144 is 20736\n",
      "Square of 146 is 21316\n",
      "Square of 148 is 21904\n",
      "Square of 150 is 22500\n",
      "Square of 152 is 23104\n",
      "Square of 154 is 23716\n",
      "Square of 156 is 24336\n",
      "Square of 158 is 24964\n",
      "Square of 160 is 25600\n",
      "Square of 162 is 26244\n",
      "Square of 164 is 26896\n",
      "Square of 166 is 27556\n",
      "Square of 168 is 28224\n",
      "Square of 170 is 28900\n",
      "Square of 172 is 29584\n",
      "Square of 174 is 30276\n",
      "Square of 176 is 30976\n",
      "Square of 178 is 31684\n",
      "Square of 180 is 32400\n",
      "Square of 182 is 33124\n",
      "Square of 184 is 33856\n",
      "Square of 186 is 34596\n",
      "Square of 188 is 35344\n",
      "Square of 190 is 36100\n",
      "Square of 192 is 36864\n",
      "Square of 194 is 37636\n",
      "Square of 196 is 38416\n",
      "Square of 198 is 39204\n",
      "Square of 200 is 40000\n"
     ]
    }
   ],
   "source": [
    "def squares_of_even_numbers():\n",
    "    \"\"\"Print squares of even numbers in the range 100 to 200\"\"\"\n",
    "    for num in range(100, 201):  # Range from 100 to 200\n",
    "        if num % 2 == 0:  # Check if the number is even\n",
    "            print(f\"Square of {num} is {num ** 2}\")\n",
    "\n",
    "# Call the function to print squares of even numbers\n",
    "squares_of_even_numbers()"
   ]
  },
  {
   "cell_type": "code",
   "execution_count": 30,
   "id": "68473223-444d-4836-867f-b40ebc96d16a",
   "metadata": {},
   "outputs": [
    {
     "name": "stdout",
     "output_type": "stream",
     "text": [
      "'This': 2\n",
      "'is': 1\n",
      "'a': 1\n",
      "'sample': 1\n",
      "'text.': 1\n",
      "'text': 1\n",
      "'will': 1\n",
      "'be': 1\n",
      "'used': 1\n",
      "'to': 1\n",
      "'demonstrate': 1\n",
      "'the': 1\n",
      "'word': 1\n",
      "'counter.': 1\n"
     ]
    }
   ],
   "source": [
    "def word_counter(input_text):\n",
    "    \"\"\"Count the number of occurrences of each word in the given text using pandas\"\"\"\n",
    "    # Split the input text into words by spaces\n",
    "    words = input_text.split()\n",
    "\n",
    "    # Create a Pandas DataFrame with the words\n",
    "    df = pd.DataFrame(words, columns=['Word'])\n",
    "\n",
    "    # Count the occurrences of each word\n",
    "    word_count = df['Word'].value_counts()\n",
    "\n",
    "    # Print the word count\n",
    "    for word, count in word_count.items():\n",
    "        print(f\"'{word}': {count}\")\n",
    "\n",
    "input_text = \"This is a sample text. This text will be used to demonstrate the word counter.\"\n",
    "word_counter(input_text)"
   ]
  },
  {
   "cell_type": "code",
   "execution_count": 33,
   "id": "e8e7a161-13cc-4eaf-bbcc-5d29aa233537",
   "metadata": {},
   "outputs": [
    {
     "name": "stdout",
     "output_type": "stream",
     "text": [
      "Is the string \"racecar\" a palindrome? True\n"
     ]
    }
   ],
   "source": [
    "import re\n",
    "\n",
    "def is_palindrome(input_string):\n",
    "    \"\"\"Check if a string is a palindrome\"\"\"\n",
    "    # Remove non-alphanumeric characters and convert to lowercase\n",
    "    sanitized_string = re.sub(r'[^A-Za-z0-9]', '', input_string.lower())\n",
    "    \n",
    "    # Compare the sanitized string with its reverse\n",
    "    return sanitized_string == sanitized_string[::-1]\n",
    "\n",
    "# Example usage\n",
    "input_str = \"racecar\"\n",
    "print(f'Is the string \"{input_str}\" a palindrome? {is_palindrome(input_str)}')"
   ]
  },
  {
   "cell_type": "code",
   "execution_count": null,
   "id": "7cdd1a93-da3a-4a9c-959f-721a773fca0e",
   "metadata": {},
   "outputs": [],
   "source": []
  }
 ],
 "metadata": {
  "kernelspec": {
   "display_name": "Python 3 (ipykernel)",
   "language": "python",
   "name": "python3"
  },
  "language_info": {
   "codemirror_mode": {
    "name": "ipython",
    "version": 3
   },
   "file_extension": ".py",
   "mimetype": "text/x-python",
   "name": "python",
   "nbconvert_exporter": "python",
   "pygments_lexer": "ipython3",
   "version": "3.12.7"
  }
 },
 "nbformat": 4,
 "nbformat_minor": 5
}
