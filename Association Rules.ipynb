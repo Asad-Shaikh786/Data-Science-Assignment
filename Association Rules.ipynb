{
 "cells": [
  {
   "cell_type": "code",
   "execution_count": null,
   "id": "6f5d4292-5be3-4808-963b-3302b5e569e8",
   "metadata": {},
   "outputs": [],
   "source": [
    "\"\"\"1. What is Lift and Why is it Important in Association Rules?\n",
    "Lift measures how much more likely item B is purchased when item A is bought, compared to random chance.\n",
    "\n",
    "2. What is Support and Confidence? How Do You Calculate Them?\n",
    "Support: Frequency of an itemset appearing in transactions.\n",
    "Confidence: Probability that item B is purchased given item A is bought.\n",
    "\n",
    "3. Limitations or Challenges of Association Rule Mining\n",
    "Computational Complexity: Expensive for large datasets.\n",
    "Setting Optimal Thresholds: Difficult to choose meaningful support, confidence, and lift values.\n",
    "Redundant Rules: Many rules may not provide actionable insights.\n",
    "Sparse Data: Low support for meaningful rules in large itemsets.'''"
   ]
  },
  {
   "cell_type": "code",
   "execution_count": 1,
   "id": "7b35553f-3fa0-4e01-810c-36d155812c00",
   "metadata": {},
   "outputs": [
    {
     "name": "stdout",
     "output_type": "stream",
     "text": [
      "Requirement already satisfied: mlxtend in c:\\users\\asad shaikh\\anaconda3\\lib\\site-packages (0.23.4)\n",
      "Requirement already satisfied: scipy>=1.2.1 in c:\\users\\asad shaikh\\anaconda3\\lib\\site-packages (from mlxtend) (1.13.1)\n",
      "Requirement already satisfied: numpy>=1.16.2 in c:\\users\\asad shaikh\\anaconda3\\lib\\site-packages (from mlxtend) (1.26.4)\n",
      "Requirement already satisfied: pandas>=0.24.2 in c:\\users\\asad shaikh\\anaconda3\\lib\\site-packages (from mlxtend) (2.2.2)\n",
      "Requirement already satisfied: scikit-learn>=1.3.1 in c:\\users\\asad shaikh\\anaconda3\\lib\\site-packages (from mlxtend) (1.5.1)\n",
      "Requirement already satisfied: matplotlib>=3.0.0 in c:\\users\\asad shaikh\\anaconda3\\lib\\site-packages (from mlxtend) (3.9.2)\n",
      "Requirement already satisfied: joblib>=0.13.2 in c:\\users\\asad shaikh\\anaconda3\\lib\\site-packages (from mlxtend) (1.4.2)\n",
      "Requirement already satisfied: contourpy>=1.0.1 in c:\\users\\asad shaikh\\anaconda3\\lib\\site-packages (from matplotlib>=3.0.0->mlxtend) (1.2.0)\n",
      "Requirement already satisfied: cycler>=0.10 in c:\\users\\asad shaikh\\anaconda3\\lib\\site-packages (from matplotlib>=3.0.0->mlxtend) (0.11.0)\n",
      "Requirement already satisfied: fonttools>=4.22.0 in c:\\users\\asad shaikh\\anaconda3\\lib\\site-packages (from matplotlib>=3.0.0->mlxtend) (4.51.0)\n",
      "Requirement already satisfied: kiwisolver>=1.3.1 in c:\\users\\asad shaikh\\anaconda3\\lib\\site-packages (from matplotlib>=3.0.0->mlxtend) (1.4.4)\n",
      "Requirement already satisfied: packaging>=20.0 in c:\\users\\asad shaikh\\appdata\\roaming\\python\\python312\\site-packages (from matplotlib>=3.0.0->mlxtend) (24.2)\n",
      "Requirement already satisfied: pillow>=8 in c:\\users\\asad shaikh\\anaconda3\\lib\\site-packages (from matplotlib>=3.0.0->mlxtend) (10.4.0)\n",
      "Requirement already satisfied: pyparsing>=2.3.1 in c:\\users\\asad shaikh\\anaconda3\\lib\\site-packages (from matplotlib>=3.0.0->mlxtend) (3.1.2)\n",
      "Requirement already satisfied: python-dateutil>=2.7 in c:\\users\\asad shaikh\\appdata\\roaming\\python\\python312\\site-packages (from matplotlib>=3.0.0->mlxtend) (2.9.0.post0)\n",
      "Requirement already satisfied: pytz>=2020.1 in c:\\users\\asad shaikh\\anaconda3\\lib\\site-packages (from pandas>=0.24.2->mlxtend) (2024.1)\n",
      "Requirement already satisfied: tzdata>=2022.7 in c:\\users\\asad shaikh\\anaconda3\\lib\\site-packages (from pandas>=0.24.2->mlxtend) (2023.3)\n",
      "Requirement already satisfied: threadpoolctl>=3.1.0 in c:\\users\\asad shaikh\\anaconda3\\lib\\site-packages (from scikit-learn>=1.3.1->mlxtend) (3.5.0)\n",
      "Requirement already satisfied: six>=1.5 in c:\\users\\asad shaikh\\appdata\\roaming\\python\\python312\\site-packages (from python-dateutil>=2.7->matplotlib>=3.0.0->mlxtend) (1.17.0)\n"
     ]
    }
   ],
   "source": [
    "import pandas as pd\n",
    "from mlxtend.preprocessing import TransactionEncoder\n",
    "from mlxtend.frequent_patterns import apriori, association_rules\n",
    "!pip install mlxtend\n",
    "\n",
    "# Load the dataset\n",
    "df = pd.read_excel(r\"C:\\Users\\Asad shaikh\\Documents\\Online retail.xlsx\")\n",
    "\n",
    "# Convert the dataset into a list of transactions\n",
    "transactions = df.iloc[:, 0].apply(lambda x: x.split(','))  # Split items by comma\n",
    "transactions = transactions.tolist()  # Convert to a list of lists"
   ]
  },
  {
   "cell_type": "code",
   "execution_count": 2,
   "id": "f06df414-ccdc-408b-bbc9-66f48817b488",
   "metadata": {},
   "outputs": [],
   "source": [
    "## Convert transactions into a format suitable for Apriori\n",
    "te = TransactionEncoder()\n",
    "te_ary = te.fit(transactions).transform(transactions)\n",
    "df_encoded = pd.DataFrame(te_ary, columns=te.columns_)"
   ]
  },
  {
   "cell_type": "code",
   "execution_count": 3,
   "id": "745b29fd-7ac8-4e22-92cb-bf2cecb098d7",
   "metadata": {},
   "outputs": [
    {
     "name": "stdout",
     "output_type": "stream",
     "text": [
      "                    antecedents                 consequents  \\\n",
      "217             (herb & pepper)               (ground beef)   \n",
      "216               (ground beef)             (herb & pepper)   \n",
      "388               (ground beef)  (spaghetti, mineral water)   \n",
      "385  (spaghetti, mineral water)               (ground beef)   \n",
      "398  (spaghetti, mineral water)                 (olive oil)   \n",
      "399                 (olive oil)  (spaghetti, mineral water)   \n",
      "195         (frozen vegetables)                  (tomatoes)   \n",
      "194                  (tomatoes)         (frozen vegetables)   \n",
      "191         (frozen vegetables)                    (shrimp)   \n",
      "190                    (shrimp)         (frozen vegetables)   \n",
      "\n",
      "     antecedent support  consequent support   support  confidence      lift  \\\n",
      "217            0.049467            0.098267  0.016000    0.323450  3.291555   \n",
      "216            0.098267            0.049467  0.016000    0.162822  3.291555   \n",
      "388            0.098267            0.059733  0.017067    0.173677  2.907540   \n",
      "385            0.059733            0.098267  0.017067    0.285714  2.907540   \n",
      "398            0.059733            0.065733  0.010267    0.171875  2.614731   \n",
      "399            0.065733            0.059733  0.010267    0.156187  2.614731   \n",
      "195            0.095333            0.068400  0.016133    0.169231  2.474134   \n",
      "194            0.068400            0.095333  0.016133    0.235867  2.474134   \n",
      "191            0.095333            0.071333  0.016667    0.174825  2.450820   \n",
      "190            0.071333            0.095333  0.016667    0.233645  2.450820   \n",
      "\n",
      "     representativity  leverage  conviction  zhangs_metric   jaccard  \\\n",
      "217               1.0  0.011139    1.332841       0.732423  0.121457   \n",
      "216               1.0  0.011139    1.135402       0.772060  0.121457   \n",
      "388               1.0  0.011197    1.137893       0.727562  0.121097   \n",
      "385               1.0  0.011197    1.262427       0.697745  0.121097   \n",
      "398               1.0  0.006340    1.128171       0.656783  0.089120   \n",
      "399               1.0  0.006340    1.114306       0.661001  0.089120   \n",
      "195               1.0  0.009613    1.121370       0.658605  0.109304   \n",
      "194               1.0  0.009613    1.183913       0.639564  0.109304   \n",
      "191               1.0  0.009866    1.125418       0.654355  0.111111   \n",
      "190               1.0  0.009866    1.180480       0.637444  0.111111   \n",
      "\n",
      "     certainty  kulczynski  \n",
      "217   0.249723    0.243136  \n",
      "216   0.119255    0.243136  \n",
      "388   0.121182    0.229696  \n",
      "385   0.207875    0.229696  \n",
      "398   0.113610    0.164031  \n",
      "399   0.102581    0.164031  \n",
      "195   0.108234    0.202549  \n",
      "194   0.155344    0.202549  \n",
      "191   0.111441    0.204235  \n",
      "190   0.152887    0.204235  \n",
      "\n",
      "Insights from Association Rules:\n",
      "If a customer buys ['herb & pepper'], they are 3.29 times more likely to buy ['ground beef'].\n",
      "If a customer buys ['ground beef'], they are 3.29 times more likely to buy ['herb & pepper'].\n",
      "If a customer buys ['ground beef'], they are 2.91 times more likely to buy ['spaghetti', 'mineral water'].\n",
      "If a customer buys ['spaghetti', 'mineral water'], they are 2.91 times more likely to buy ['ground beef'].\n",
      "If a customer buys ['spaghetti', 'mineral water'], they are 2.61 times more likely to buy ['olive oil'].\n"
     ]
    }
   ],
   "source": [
    "# Apply Apriori algorithm\n",
    "frequent_itemsets = apriori(df_encoded, min_support=0.01, use_colnames=True)\n",
    "\n",
    "\n",
    "# Generate association rules\n",
    "rules = association_rules(frequent_itemsets, metric=\"lift\", min_threshold=1.0)\n",
    "# Display the top 10 association rules sorted by lift\n",
    "print(rules.sort_values(by=\"lift\", ascending=False).head(10))\n",
    "\n",
    "# Interpretation\n",
    "print(\"\\nInsights from Association Rules:\")\n",
    "for index, row in rules.sort_values(by=\"lift\", ascending=False).head(5).iterrows():\n",
    "    print(f\"If a customer buys {list(row['antecedents'])}, they are {row['lift']:.2f} times more likely to buy {list(row['consequents'])}.\")"
   ]
  }
 ],
 "metadata": {
  "kernelspec": {
   "display_name": "Python 3 (ipykernel)",
   "language": "python",
   "name": "python3"
  },
  "language_info": {
   "codemirror_mode": {
    "name": "ipython",
    "version": 3
   },
   "file_extension": ".py",
   "mimetype": "text/x-python",
   "name": "python",
   "nbconvert_exporter": "python",
   "pygments_lexer": "ipython3",
   "version": "3.12.7"
  }
 },
 "nbformat": 4,
 "nbformat_minor": 5
}
