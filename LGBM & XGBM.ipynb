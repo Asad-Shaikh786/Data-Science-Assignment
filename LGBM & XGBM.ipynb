{
 "cells": [
  {
   "cell_type": "code",
   "execution_count": 1,
   "id": "bce70760-f264-4909-bc2e-36d0da97b426",
   "metadata": {},
   "outputs": [],
   "source": [
    "import pandas as pd\n",
    "import numpy as np\n",
    "import matplotlib.pyplot as plt\n",
    "import seaborn as sns\n",
    "from sklearn.model_selection import train_test_split\n",
    "from sklearn.preprocessing import OneHotEncoder\n",
    "from sklearn.impute import SimpleImputer\n",
    "from sklearn.metrics import accuracy_score, precision_score, recall_score, f1_score\n",
    "from lightgbm import LGBMClassifier\n",
    "from xgboost import XGBClassifier\n",
    "import warnings\n",
    "warnings.filterwarnings(\"ignore\")\n",
    "\n",
    "# Load the dataset\n",
    "df_train = pd.read_csv(r\"C:\\Users\\Asad shaikh\\Documents\\Titanic_train.csv\")\n",
    "df_test = pd.read_csv(r\"C:\\Users\\Asad shaikh\\Documents\\Titanic_test.csv\")\n"
   ]
  },
  {
   "cell_type": "code",
   "execution_count": 2,
   "id": "19a6168a-2a1b-48ae-bc80-3ba89118a65c",
   "metadata": {},
   "outputs": [],
   "source": [
    "# Drop unnecessary columns\n",
    "df_train = df_train.drop(columns=[\"PassengerId\", \"Name\", \"Ticket\", \"Cabin\"])\n",
    "df_test = df_test.drop(columns=[\"PassengerId\", \"Name\", \"Ticket\", \"Cabin\"])\n",
    "\n",
    "# Handle missing values\n",
    "age_imputer = SimpleImputer(strategy=\"median\")\n",
    "fare_imputer = SimpleImputer(strategy=\"median\")\n",
    "\n",
    "df_train[\"Age\"] = age_imputer.fit_transform(df_train[[\"Age\"]])\n",
    "df_test[\"Age\"] = age_imputer.transform(df_test[[\"Age\"]])\n",
    "\n",
    "df_train[\"Fare\"] = fare_imputer.fit_transform(df_train[[\"Fare\"]])\n",
    "df_test[\"Fare\"] = fare_imputer.transform(df_test[[\"Fare\"]])\n",
    "\n",
    "# Impute missing values in 'Embarked' column\n",
    "df_train[\"Embarked\"] = df_train[\"Embarked\"].fillna(df_train[\"Embarked\"].mode()[0])\n",
    "df_test[\"Embarked\"] = df_test[\"Embarked\"].fillna(df_test[\"Embarked\"].mode()[0])\n",
    "\n"
   ]
  },
  {
   "cell_type": "code",
   "execution_count": 3,
   "id": "ba10699f-d1b7-4bec-b36b-bb34ac7de8a8",
   "metadata": {},
   "outputs": [],
   "source": [
    "# Encode categorical variables\n",
    "encoder = OneHotEncoder(drop=\"first\", sparse_output=False, handle_unknown='ignore')\n",
    "encoded_train = encoder.fit_transform(df_train[[\"Sex\", \"Embarked\"]])\n",
    "encoded_test = encoder.transform(df_test[[\"Sex\", \"Embarked\"]])\n",
    "\n",
    "encoded_columns = encoder.get_feature_names_out([\"Sex\", \"Embarked\"])\n",
    "encoded_train_df = pd.DataFrame(encoded_train, columns=encoded_columns, index=df_train.index)\n",
    "encoded_test_df = pd.DataFrame(encoded_test, columns=encoded_columns, index=df_test.index)\n",
    "\n",
    "df_train = df_train.drop(columns=[\"Sex\", \"Embarked\"]).join(encoded_train_df)\n",
    "df_test = df_test.drop(columns=[\"Sex\", \"Embarked\"]).join(encoded_test_df)\n"
   ]
  },
  {
   "cell_type": "code",
   "execution_count": 4,
   "id": "b2344b13-fa71-401b-9c36-d853f0ebe671",
   "metadata": {},
   "outputs": [
    {
     "name": "stdout",
     "output_type": "stream",
     "text": [
      "[LightGBM] [Info] Number of positive: 273, number of negative: 439\n",
      "[LightGBM] [Info] Auto-choosing row-wise multi-threading, the overhead of testing was 0.000115 seconds.\n",
      "You can set `force_row_wise=true` to remove the overhead.\n",
      "And if memory is not enough, you can set `force_col_wise=true`.\n",
      "[LightGBM] [Info] Total Bins 206\n",
      "[LightGBM] [Info] Number of data points in the train set: 712, number of used features: 8\n",
      "[LightGBM] [Info] [binary:BoostFromScore]: pavg=0.383427 -> initscore=-0.475028\n",
      "[LightGBM] [Info] Start training from score -0.475028\n",
      "[LightGBM] [Warning] No further splits with positive gain, best gain: -inf\n",
      "[LightGBM] [Warning] No further splits with positive gain, best gain: -inf\n",
      "[LightGBM] [Warning] No further splits with positive gain, best gain: -inf\n",
      "[LightGBM] [Warning] No further splits with positive gain, best gain: -inf\n",
      "[LightGBM] [Warning] No further splits with positive gain, best gain: -inf\n",
      "[LightGBM] [Warning] No further splits with positive gain, best gain: -inf\n",
      "[LightGBM] [Warning] No further splits with positive gain, best gain: -inf\n",
      "[LightGBM] [Warning] No further splits with positive gain, best gain: -inf\n",
      "[LightGBM] [Warning] No further splits with positive gain, best gain: -inf\n",
      "[LightGBM] [Warning] No further splits with positive gain, best gain: -inf\n",
      "[LightGBM] [Warning] No further splits with positive gain, best gain: -inf\n",
      "[LightGBM] [Warning] No further splits with positive gain, best gain: -inf\n",
      "[LightGBM] [Warning] No further splits with positive gain, best gain: -inf\n",
      "[LightGBM] [Warning] No further splits with positive gain, best gain: -inf\n",
      "[LightGBM] [Warning] No further splits with positive gain, best gain: -inf\n",
      "[LightGBM] [Warning] No further splits with positive gain, best gain: -inf\n",
      "[LightGBM] [Warning] No further splits with positive gain, best gain: -inf\n",
      "[LightGBM] [Warning] No further splits with positive gain, best gain: -inf\n",
      "[LightGBM] [Warning] No further splits with positive gain, best gain: -inf\n",
      "[LightGBM] [Warning] No further splits with positive gain, best gain: -inf\n",
      "[LightGBM] [Warning] No further splits with positive gain, best gain: -inf\n",
      "[LightGBM] [Warning] No further splits with positive gain, best gain: -inf\n",
      "[LightGBM] [Warning] No further splits with positive gain, best gain: -inf\n",
      "[LightGBM] [Warning] No further splits with positive gain, best gain: -inf\n",
      "[LightGBM] [Warning] No further splits with positive gain, best gain: -inf\n",
      "[LightGBM] [Warning] No further splits with positive gain, best gain: -inf\n",
      "[LightGBM] [Warning] No further splits with positive gain, best gain: -inf\n",
      "[LightGBM] [Warning] No further splits with positive gain, best gain: -inf\n",
      "[LightGBM] [Warning] No further splits with positive gain, best gain: -inf\n",
      "[LightGBM] [Warning] No further splits with positive gain, best gain: -inf\n",
      "[LightGBM] [Warning] No further splits with positive gain, best gain: -inf\n",
      "LightGBM Results: {'Accuracy': 0.7988826815642458, 'Precision': 0.746268656716418, 'Recall': 0.7246376811594203, 'F1 Score': 0.7352941176470589}\n",
      "XGBoost Results: {'Accuracy': 0.8268156424581006, 'Precision': 0.7794117647058824, 'Recall': 0.7681159420289855, 'F1 Score': 0.7737226277372263}\n"
     ]
    }
   ],
   "source": [
    "# Split data\n",
    "X = df_train.drop(columns=[\"Survived\"])\n",
    "y = df_train[\"Survived\"]\n",
    "X_train, X_val, y_train, y_val = train_test_split(X, y, test_size=0.2, random_state=42, stratify=y)\n",
    "\n",
    "# Train models\n",
    "lgbm = LGBMClassifier(\n",
    "    random_state=42,\n",
    "    max_depth=10,  # Increase depth to allow more splits\n",
    "    num_leaves=31,  # Default value, can be increased for complex patterns\n",
    "    min_child_samples=10,  # Ensures meaningful splits\n",
    "    learning_rate=0.05,  # Slows learning to capture better patterns\n",
    "    n_estimators=200  # More trees for stability\n",
    ")\n",
    "\n",
    "xgbm = XGBClassifier(use_label_encoder=False, eval_metric=\"logloss\", random_state=42)\n",
    "\n",
    "lgbm.fit(X_train, y_train)\n",
    "xgbm.fit(X_train, y_train)\n",
    "\n",
    "# Predictions\n",
    "y_pred_lgbm = lgbm.predict(X_val)\n",
    "y_pred_xgbm = xgbm.predict(X_val)\n",
    "\n",
    "# Evaluation\n",
    "def evaluate_model(y_true, y_pred):\n",
    "    return {\n",
    "        \"Accuracy\": accuracy_score(y_true, y_pred),\n",
    "        \"Precision\": precision_score(y_true, y_pred),\n",
    "        \"Recall\": recall_score(y_true, y_pred),\n",
    "        \"F1 Score\": f1_score(y_true, y_pred)\n",
    "    }\n",
    "\n",
    "lgbm_results = evaluate_model(y_val, y_pred_lgbm)\n",
    "xgbm_results = evaluate_model(y_val, y_pred_xgbm)\n",
    "\n",
    "# Display results\n",
    "print(\"LightGBM Results:\", lgbm_results)\n",
    "print(\"XGBoost Results:\", xgbm_results)"
   ]
  },
  {
   "cell_type": "code",
   "execution_count": 5,
   "id": "c5b8d459-df26-4040-befd-995e32b5641d",
   "metadata": {},
   "outputs": [
    {
     "data": {
      "image/png": "[encoded data removed]",
      "text/plain": [
       "<Figure size 800x600 with 1 Axes>"
      ]
     },
     "metadata": {},
     "output_type": "display_data"
    }
   ],
   "source": [
    "# Visualization\n",
    "metrics = [\"Accuracy\", \"Precision\", \"Recall\", \"F1 Score\"]\n",
    "lgbm_scores = [lgbm_results[metric] for metric in metrics]\n",
    "xgbm_scores = [xgbm_results[metric] for metric in metrics]\n",
    "\n",
    "x = np.arange(len(metrics))\n",
    "width = 0.35\n",
    "\n",
    "fig, ax = plt.subplots(figsize=(8, 6))\n",
    "rects1 = ax.bar(x - width/2, lgbm_scores, width, label='LightGBM')\n",
    "rects2 = ax.bar(x + width/2, xgbm_scores, width, label='XGBoost')\n",
    "\n",
    "ax.set_ylabel(\"Score\")\n",
    "ax.set_title(\"Model Performance Comparison\")\n",
    "ax.set_xticks(x)\n",
    "ax.set_xticklabels(metrics)\n",
    "ax.legend()\n",
    "\n",
    "plt.ylim(0, 1)\n",
    "plt.show()"
   ]
  }
 ],
 "metadata": {
  "kernelspec": {
   "display_name": "Python 3 (ipykernel)",
   "language": "python",
   "name": "python3"
  },
  "language_info": {
   "codemirror_mode": {
    "name": "ipython",
    "version": 3
   },
   "file_extension": ".py",
   "mimetype": "text/x-python",
   "name": "python",
   "nbconvert_exporter": "python",
   "pygments_lexer": "ipython3",
   "version": "3.12.7"
  }
 },
 "nbformat": 4,
 "nbformat_minor": 5
}
