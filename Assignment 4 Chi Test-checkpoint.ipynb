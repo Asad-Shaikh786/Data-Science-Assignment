{
 "cells": [
  {
   "cell_type": "code",
   "execution_count": null,
   "id": "59b7b1e9-d4a5-4125-9bfb-687d99d63c0a",
   "metadata": {},
   "outputs": [],
   "source": [
    "## CHI-SQUARE TEST"
   ]
  },
  {
   "cell_type": "code",
   "execution_count": 1,
   "id": "a4ca9de8-75ad-4df3-b8c1-d6da835c86e1",
   "metadata": {},
   "outputs": [],
   "source": [
    "import numpy as np\n",
    "import scipy.stats as stats\n",
    "\n",
    "# Step 1: Observed data (contingency table)\n",
    "observed = np.array([[50, 70], \n",
    "                     [80, 100], \n",
    "                     [60, 90], \n",
    "                     [30, 50], \n",
    "                     [20, 50]])\n",
    "\n"
   ]
  },
  {
   "cell_type": "code",
   "execution_count": 2,
   "id": "f944c039-ce05-4535-a472-1e83b3a717ca",
   "metadata": {},
   "outputs": [],
   "source": [
    "# Step 2: Calculate row totals, column totals, and grand total\n",
    "row_totals = observed.sum(axis=1)\n",
    "col_totals = observed.sum(axis=0)\n",
    "grand_total = observed.sum()"
   ]
  },
  {
   "cell_type": "code",
   "execution_count": 3,
   "id": "c9f08cd3-d9c6-4575-9adb-05095b9c138c",
   "metadata": {},
   "outputs": [],
   "source": [
    "# Step 3: Calculate the expected frequencies\n",
    "expected = np.outer(row_totals, col_totals) / grand_total"
   ]
  },
  {
   "cell_type": "code",
   "execution_count": 4,
   "id": "50093b4f-02d0-4b43-864f-4d5c1bd1224f",
   "metadata": {},
   "outputs": [],
   "source": [
    "# Step 4: Compute the Chi-Square statistic\n",
    "chi_square_statistic = ((observed - expected) ** 2 / expected).sum()"
   ]
  },
  {
   "cell_type": "code",
   "execution_count": 5,
   "id": "46f90cd5-2938-4da8-8332-7a244a0e2db5",
   "metadata": {},
   "outputs": [],
   "source": [
    "# Step 5: Degrees of freedom (df = (r - 1) * (c - 1))\n",
    "df = (observed.shape[0] - 1) * (observed.shape[1] - 1)"
   ]
  },
  {
   "cell_type": "code",
   "execution_count": 6,
   "id": "51c9a77f-b90a-4ec4-a714-6c8f916d7249",
   "metadata": {},
   "outputs": [],
   "source": [
    "# Step 6: Critical value at alpha = 0.05\n",
    "alpha = 0.05\n",
    "critical_value = stats.chi2.ppf(1 - alpha, df)"
   ]
  },
  {
   "cell_type": "code",
   "execution_count": 7,
   "id": "189e4657-1408-4755-a2dc-759873400acb",
   "metadata": {},
   "outputs": [],
   "source": [
    "# Step 7: Make the decision\n",
    "if chi_square_statistic > critical_value:\n",
    "    decision = \"Reject the null hypothesis (there is an association).\"\n",
    "else:\n",
    "    decision = \"Fail to reject the null hypothesis (no association).\""
   ]
  },
  {
   "cell_type": "code",
   "execution_count": 8,
   "id": "500bbf93-1745-4b24-98af-b98a7af7ed29",
   "metadata": {},
   "outputs": [
    {
     "name": "stdout",
     "output_type": "stream",
     "text": [
      "Observed Frequencies:\n",
      "[[ 50  70]\n",
      " [ 80 100]\n",
      " [ 60  90]\n",
      " [ 30  50]\n",
      " [ 20  50]]\n",
      "\n",
      "Expected Frequencies:\n",
      "[[ 48.  72.]\n",
      " [ 72. 108.]\n",
      " [ 60.  90.]\n",
      " [ 32.  48.]\n",
      " [ 28.  42.]]\n",
      "\n",
      "Chi-Square Statistic: 5.638227513227513\n",
      "Critical Value at alpha = 0.05: 9.487729036781154\n",
      "\n",
      "Degrees of Freedom: 4\n",
      "\n",
      "Decision: Fail to reject the null hypothesis (no association).\n"
     ]
    }
   ],
   "source": [
    "# Step 8: Output the results\n",
    "print(\"Observed Frequencies:\")\n",
    "print(observed)\n",
    "\n",
    "print(\"\\nExpected Frequencies:\")\n",
    "print(expected)\n",
    "\n",
    "print(f\"\\nChi-Square Statistic: {chi_square_statistic}\")\n",
    "print(f\"Critical Value at alpha = {alpha}: {critical_value}\")\n",
    "print(f\"\\nDegrees of Freedom: {df}\")\n",
    "print(f\"\\nDecision: {decision}\")"
   ]
  }
 ],
 "metadata": {
  "kernelspec": {
   "display_name": "Python 3 (ipykernel)",
   "language": "python",
   "name": "python3"
  },
  "language_info": {
   "codemirror_mode": {
    "name": "ipython",
    "version": 3
   },
   "file_extension": ".py",
   "mimetype": "text/x-python",
   "name": "python",
   "nbconvert_exporter": "python",
   "pygments_lexer": "ipython3",
   "version": "3.12.7"
  }
 },
 "nbformat": 4,
 "nbformat_minor": 5
}
