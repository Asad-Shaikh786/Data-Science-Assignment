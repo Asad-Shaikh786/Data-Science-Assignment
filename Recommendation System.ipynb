{
 "cells": [
  {
   "cell_type": "code",
   "execution_count": null,
   "id": "6dc7710c-ab34-4a77-ae06-1771cf416917",
   "metadata": {},
   "outputs": [],
   "source": [
    "1. Difference between User-Based and Item-Based Collaborative Filtering\n",
    "--->User-based focuses on finding similar users, while item-based focuses on finding similar items.\n",
    "Item-based filtering is generally more stable and scalable since user preferences change more frequently than item relationships.\n",
    "\n",
    "2. What is Collaborative Filtering, and How Does It Work?\n",
    "-->Collaborative filtering is a recommendation technique that predicts a user’s preferences based on the behavior of other users.\n",
    "It works by analyzing past interactions (e.g., ratings, clicks, purchases) to find patterns and similarities either between users or between items."
   ]
  },
  {
   "cell_type": "code",
   "execution_count": 1,
   "id": "178f4320-4321-4904-8922-aef19326c673",
   "metadata": {},
   "outputs": [],
   "source": [
    "import pandas as pd\n",
    "import numpy as np\n",
    "from sklearn.feature_extraction.text import TfidfVectorizer\n",
    "from sklearn.metrics.pairwise import cosine_similarity\n",
    "\n",
    "# Load the dataset\n",
    "df = pd.read_csv(r\"C:\\Users\\Asad shaikh\\Documents\\anime.csv\")\n",
    "\n"
   ]
  },
  {
   "cell_type": "code",
   "execution_count": 2,
   "id": "1fbfa8f2-ad49-4221-aa51-14457c736370",
   "metadata": {},
   "outputs": [
    {
     "name": "stdout",
     "output_type": "stream",
     "text": [
      "Dataset Info:\n",
      "<class 'pandas.core.frame.DataFrame'>\n",
      "RangeIndex: 12294 entries, 0 to 12293\n",
      "Data columns (total 7 columns):\n",
      " #   Column    Non-Null Count  Dtype  \n",
      "---  ------    --------------  -----  \n",
      " 0   anime_id  12294 non-null  int64  \n",
      " 1   name      12294 non-null  object \n",
      " 2   genre     12232 non-null  object \n",
      " 3   type      12269 non-null  object \n",
      " 4   episodes  12294 non-null  object \n",
      " 5   rating    12064 non-null  float64\n",
      " 6   members   12294 non-null  int64  \n",
      "dtypes: float64(1), int64(2), object(4)\n",
      "memory usage: 672.5+ KB\n",
      "None\n"
     ]
    }
   ],
   "source": [
    "# Task 1: Data Preprocessing\n",
    "print(\"Dataset Info:\")\n",
    "print(df.info())\n",
    "\n",
    "# Handle missing values\n",
    "df = df.dropna()\n",
    "\n",
    "# Select relevant features\n",
    "df = df[['anime_id', 'name', 'genre', 'rating']]\n",
    "\n",
    "def clean_genre(genre):\n",
    "    return \" \".join(genre.split(\", \")) if isinstance(genre, str) else \"\"\n",
    "\n",
    "df['genre'] = df['genre'].apply(clean_genre)\n"
   ]
  },
  {
   "cell_type": "code",
   "execution_count": 3,
   "id": "c7f889b5-e28d-494b-ad52-2adaa068ac2c",
   "metadata": {},
   "outputs": [],
   "source": [
    "# Task 2: Feature Extraction\n",
    "vectorizer = TfidfVectorizer(stop_words='english')\n",
    "tfidf_matrix = vectorizer.fit_transform(df['genre'])\n",
    "\n",
    "# Compute cosine similarity\n",
    "cosine_sim = cosine_similarity(tfidf_matrix, tfidf_matrix)\n"
   ]
  },
  {
   "cell_type": "code",
   "execution_count": 4,
   "id": "82f88a85-6846-4f1b-8d87-f69e1e8aec1d",
   "metadata": {},
   "outputs": [
    {
     "name": "stdout",
     "output_type": "stream",
     "text": [
      "                                                   name  \\\n",
      "615                                  Naruto: Shippuuden   \n",
      "841                                              Naruto   \n",
      "1103  Boruto: Naruto the Movie - Naruto ga Hokage ni...   \n",
      "1343                                        Naruto x UT   \n",
      "1472        Naruto: Shippuuden Movie 4 - The Lost Tower   \n",
      "\n",
      "                                               genre  rating  \n",
      "615   Action Comedy Martial Arts Shounen Super Power    7.94  \n",
      "841   Action Comedy Martial Arts Shounen Super Power    7.81  \n",
      "1103  Action Comedy Martial Arts Shounen Super Power    7.68  \n",
      "1343  Action Comedy Martial Arts Shounen Super Power    7.58  \n",
      "1472  Action Comedy Martial Arts Shounen Super Power    7.53  \n"
     ]
    }
   ],
   "source": [
    "# Task 3: Recommendation System\n",
    "def recommend_anime(anime_name, top_n=5):\n",
    "    if anime_name not in df['name'].values:\n",
    "        return \"Anime not found.\"\n",
    "    \n",
    "    anime_index = df[df['name'] == anime_name].index[0]\n",
    "    similarity_scores = list(enumerate(cosine_sim[anime_index]))\n",
    "    similarity_scores = sorted(similarity_scores, key=lambda x: x[1], reverse=True)\n",
    "    top_anime_indices = [i[0] for i in similarity_scores[1:top_n+1]]\n",
    "    \n",
    "    return df.iloc[top_anime_indices][['name', 'genre', 'rating']]\n",
    "\n",
    "# Example \n",
    "anime_recommendations = recommend_anime(\"Naruto\")\n",
    "print(anime_recommendations)"
   ]
  }
 ],
 "metadata": {
  "kernelspec": {
   "display_name": "Python 3 (ipykernel)",
   "language": "python",
   "name": "python3"
  },
  "language_info": {
   "codemirror_mode": {
    "name": "ipython",
    "version": 3
   },
   "file_extension": ".py",
   "mimetype": "text/x-python",
   "name": "python",
   "nbconvert_exporter": "python",
   "pygments_lexer": "ipython3",
   "version": "3.12.7"
  }
 },
 "nbformat": 4,
 "nbformat_minor": 5
}
